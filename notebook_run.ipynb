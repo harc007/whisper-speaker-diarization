{
 "cells": [
  {
   "cell_type": "code",
   "execution_count": null,
   "id": "ceff7811",
   "metadata": {},
   "outputs": [],
   "source": [
    "!pip install pydub ffmpeg-downloader --user"
   ]
  },
  {
   "cell_type": "code",
   "execution_count": 3,
   "id": "45b3578e",
   "metadata": {},
   "outputs": [
    {
     "name": "stdout",
     "output_type": "stream",
     "text": [
      "03-09 15:22:30 [INFO] break_up_audio_file - audio file - E371SeenUnseen.mp3, output_dir - data/E371/, time_chunk - 60\n"
     ]
    },
    {
     "name": "stderr",
     "output_type": "stream",
     "text": [
      "C:\\Users\\shara\\AppData\\Roaming\\Python\\Python38\\site-packages\\pydub\\utils.py:170: RuntimeWarning: Couldn't find ffmpeg or avconv - defaulting to ffmpeg, but may not work\n",
      "  warn(\"Couldn't find ffmpeg or avconv - defaulting to ffmpeg, but may not work\", RuntimeWarning)\n",
      "C:\\Users\\shara\\AppData\\Roaming\\Python\\Python38\\site-packages\\pydub\\utils.py:198: RuntimeWarning: Couldn't find ffprobe or avprobe - defaulting to ffprobe, but may not work\n",
      "  warn(\"Couldn't find ffprobe or avprobe - defaulting to ffprobe, but may not work\", RuntimeWarning)\n",
      "Traceback (most recent call last):\n",
      "  File \"break_up_audio_file.py\", line 53, in <module>\n",
      "    main()\n",
      "  File \"break_up_audio_file.py\", line 31, in main\n",
      "    create_chunks(audio_file_path, output_dir, time_chunk)\n",
      "  File \"break_up_audio_file.py\", line 43, in create_chunks\n",
      "    audio = AudioSegment.from_mp3(audio_file_path)\n",
      "  File \"C:\\Users\\shara\\AppData\\Roaming\\Python\\Python38\\site-packages\\pydub\\audio_segment.py\", line 796, in from_mp3\n",
      "    return cls.from_file(file, 'mp3', parameters=parameters)\n",
      "  File \"C:\\Users\\shara\\AppData\\Roaming\\Python\\Python38\\site-packages\\pydub\\audio_segment.py\", line 728, in from_file\n",
      "    info = mediainfo_json(orig_file, read_ahead_limit=read_ahead_limit)\n",
      "  File \"C:\\Users\\shara\\AppData\\Roaming\\Python\\Python38\\site-packages\\pydub\\utils.py\", line 274, in mediainfo_json\n",
      "    res = Popen(command, stdin=stdin_parameter, stdout=PIPE, stderr=PIPE)\n",
      "  File \"C:\\Program Files\\Python38\\lib\\subprocess.py\", line 854, in __init__\n",
      "    self._execute_child(args, executable, preexec_fn, close_fds,\n",
      "  File \"C:\\Program Files\\Python38\\lib\\subprocess.py\", line 1307, in _execute_child\n",
      "    hp, ht, pid, tid = _winapi.CreateProcess(executable, args,\n",
      "FileNotFoundError: [WinError 2] The system cannot find the file specified\n"
     ]
    }
   ],
   "source": [
    "!python break_up_audio_file.py -f E371SeenUnseen.mp3 -o data/E371/ -t 60"
   ]
  },
  {
   "cell_type": "code",
   "execution_count": null,
   "id": "52478eb6",
   "metadata": {},
   "outputs": [],
   "source": []
  }
 ],
 "metadata": {
  "kernelspec": {
   "display_name": "Python 3 (ipykernel)",
   "language": "python",
   "name": "python3"
  },
  "language_info": {
   "codemirror_mode": {
    "name": "ipython",
    "version": 3
   },
   "file_extension": ".py",
   "mimetype": "text/x-python",
   "name": "python",
   "nbconvert_exporter": "python",
   "pygments_lexer": "ipython3",
   "version": "3.10.7"
  }
 },
 "nbformat": 4,
 "nbformat_minor": 5
}
